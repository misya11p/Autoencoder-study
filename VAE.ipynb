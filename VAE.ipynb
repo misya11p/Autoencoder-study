{
 "cells": [
  {
   "attachments": {},
   "cell_type": "markdown",
   "metadata": {},
   "source": [
    "# VAE\n",
    "\n",
    "*Variational Autoencoder (変分オートエンコーダ)*\n",
    "\n",
    "- D.P. Kingma, et al., \"Auto-Encoding Variational Bayes\", ICLR, 2014.\n",
    "\n",
    "<br>\n",
    "\n",
    "潜在変数が任意の分布に従うように制御されたオートエンコーダ\n",
    "\n",
    "<br>\n",
    "\n"
   ]
  },
  {
   "cell_type": "code",
   "execution_count": 1,
   "metadata": {},
   "outputs": [
    {
     "data": {
      "text/plain": [
       "device(type='cpu')"
      ]
     },
     "execution_count": 1,
     "metadata": {},
     "output_type": "execute_result"
    }
   ],
   "source": [
    "import torch\n",
    "from torch import nn, optim\n",
    "import torchvision\n",
    "from torchvision import datasets, transforms\n",
    "from torch.utils.data import DataLoader\n",
    "import numpy as np\n",
    "from IPython.display import display\n",
    "import matplotlib.pyplot as plt\n",
    "import warnings\n",
    "\n",
    "warnings.filterwarnings(\"ignore\")\n",
    "device = torch.device(\"cuda\" if torch.cuda.is_available() else \"cpu\")\n",
    "device"
   ]
  },
  {
   "cell_type": "code",
   "execution_count": 2,
   "metadata": {},
   "outputs": [],
   "source": [
    "mnist = datasets.MNIST(\n",
    "    root='./data',\n",
    "    train=True,\n",
    "    download=True,\n",
    "    transform=transforms.ToTensor()\n",
    ")\n",
    "dataloader = DataLoader(mnist, batch_size=64, shuffle=True)\n",
    "\n",
    "def draw(model, n_images=10, width=800):\n",
    "    model.eval()\n",
    "    with torch.no_grad():\n",
    "        x, _ = next(iter(dataloader))\n",
    "        x = x.flatten(1).to(device)[:n_images].to(device)\n",
    "        y = model(x)\n",
    "    img = torch.cat([x, y], dim=0).view(-1, 1, 28, 28).cpu()\n",
    "    img = transforms.Resize((width // n_images))(img)\n",
    "    img = torchvision.utils.make_grid(img, nrow=n_images)\n",
    "    img = transforms.functional.to_pil_image(img)\n",
    "    display(img)"
   ]
  },
  {
   "cell_type": "code",
   "execution_count": null,
   "metadata": {},
   "outputs": [],
   "source": []
  },
  {
   "cell_type": "code",
   "execution_count": null,
   "metadata": {},
   "outputs": [],
   "source": []
  }
 ],
 "metadata": {
  "kernelspec": {
   "display_name": "dl",
   "language": "python",
   "name": "python3"
  },
  "language_info": {
   "codemirror_mode": {
    "name": "ipython",
    "version": 3
   },
   "file_extension": ".py",
   "mimetype": "text/x-python",
   "name": "python",
   "nbconvert_exporter": "python",
   "pygments_lexer": "ipython3",
   "version": "3.11.3"
  },
  "orig_nbformat": 4
 },
 "nbformat": 4,
 "nbformat_minor": 2
}
